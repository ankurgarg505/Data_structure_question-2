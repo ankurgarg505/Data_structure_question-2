{
 "cells": [
  {
   "cell_type": "markdown",
   "id": "5bad214f-4a82-4ad9-b054-a98be45def84",
   "metadata": {},
   "source": [
    "# Q-1 Which keyword is used to create a function? Create a function to return a list of odd numbers in the range of 1 to 25."
   ]
  },
  {
   "cell_type": "code",
   "execution_count": 109,
   "id": "191ef58a-71ed-40f4-9353-02205cc4a207",
   "metadata": {},
   "outputs": [
    {
     "name": "stdout",
     "output_type": "stream",
     "text": [
      "'def' keyword is uesed to create the function\n",
      "[1, 3, 5, 7, 9, 11, 13, 15, 17, 19, 21, 23, 25]\n",
      "[1, 3, 5, 7, 9, 11, 13, 15, 17, 19, 21, 23, 25]\n",
      "[1, False, 3, False, 5, False, 7, False, 9, False, 11, False, 13, False, 15, False, 17, False, 19, False, 21, False, 23, False, 25]\n"
     ]
    }
   ],
   "source": [
    "print(\"'def' keyword is uesed to create the function\")\n",
    "def odd_number(l):\n",
    "    odd = []\n",
    "    for i in range(1,l+1):\n",
    "        if i%2!=0:\n",
    "            odd.append(i)\n",
    "    return odd\n",
    "print(odd_number(25))\n",
    "\n",
    "t = lambda x: [i for i in range(1, x+1) if i%2!=0]\n",
    "print(t(25))\n",
    "\n",
    "t = list(filter(lambda x: x%2!=0 ,range(1,26)))\n",
    "\n",
    "t = list(map(lambda x: x if x%2!=0 else False, range(1,26)))\n",
    "print(t)\n"
   ]
  },
  {
   "cell_type": "markdown",
   "id": "e6337ffa-1392-4204-82e3-67de2ca312fa",
   "metadata": {},
   "source": [
    "# Q-2 Why *args and **kwargs is used in some functions? Create a function each for *args and **kwargs to demonstrate their use."
   ]
  },
  {
   "cell_type": "code",
   "execution_count": 127,
   "id": "e10c653f-2aee-49a7-a90e-15e580d8931b",
   "metadata": {},
   "outputs": [
    {
     "name": "stdout",
     "output_type": "stream",
     "text": [
      "name : Ankur\n",
      "Age : 30\n",
      "c : 1\n"
     ]
    },
    {
     "data": {
      "text/plain": [
       "(('a', 'b', 2, 5, 7, [5, 6], (2, 8)), {'name': 'Ankur', 'Age': 30, 'c': 1})"
      ]
     },
     "execution_count": 127,
     "metadata": {},
     "output_type": "execute_result"
    }
   ],
   "source": [
    "\"\"\"\n",
    "*args is used to pass variable number of positional arguements as much as want which are collected into tuple and\n",
    "**kwargs is used to pass varibale number of keywords arguements in key: value pair which are collected into dictionary\n",
    "\"\"\"\n",
    "def args_kwargs(*a, **b):\n",
    "    for key, value in b.items():\n",
    "        print(f\"{key} : {value}\")\n",
    "    return a,b\n",
    "args_kwargs(\"a\",\"b\", 2,5,7,[5,6], (2,8), name= \"Ankur\", Age = 30, c = 1)"
   ]
  },
  {
   "cell_type": "markdown",
   "id": "51887ad5-5e0a-44db-8bdb-152f73d097c7",
   "metadata": {},
   "source": [
    "# Q-3 What is an iterator in python? Name the method used to initialise the iterator object and the method used for iteration. Use these methods to print the first five elements of the given list [2, 4, 6, 8, 10, 12, 14, 16, 18, 20]."
   ]
  },
  {
   "cell_type": "code",
   "execution_count": 13,
   "id": "de57b2a5-04b2-4212-88ef-4018934f8816",
   "metadata": {},
   "outputs": [
    {
     "name": "stdout",
     "output_type": "stream",
     "text": [
      "2\n",
      "4\n",
      "6\n",
      "8\n",
      "10\n"
     ]
    }
   ],
   "source": [
    "\"\"\"\n",
    "iterator is a object which consist two method.\n",
    "1. iter() iterator object itself\n",
    "2. next() next item from the iterator.\n",
    "method used to initialise iterator object is \"iter()\" and method used for iteration is \"next()\" \n",
    "\"\"\"\n",
    "g = [2, 4, 6, 8, 10, 12, 14, 16, 18, 20]\n",
    "g= iter(g)\n",
    "j=0\n",
    "for i in g:\n",
    "    if j<5:\n",
    "        print(i)\n",
    "    j+=1\n",
    "\n",
    "\n",
    "    "
   ]
  },
  {
   "cell_type": "markdown",
   "id": "f0807189-1e71-4b23-a2cd-7b9e9ac23be5",
   "metadata": {},
   "source": [
    "# Q4. What is a generator function in python? Why yield keyword is used? Give an example of a generator function."
   ]
  },
  {
   "cell_type": "code",
   "execution_count": 26,
   "id": "17287418-4980-450f-9dd9-bca0922a8ddc",
   "metadata": {},
   "outputs": [
    {
     "data": {
      "text/plain": [
       "1"
      ]
     },
     "execution_count": 26,
     "metadata": {},
     "output_type": "execute_result"
    }
   ],
   "source": [
    "\"\"\"generator function is return the iterable value for the first time second time to get data use next() start from where last iteration end. \n",
    "Example of Fibonacchi:\n",
    "\"\"\"\n",
    "def fibo(x):\n",
    "    a = 0\n",
    "    b = 1\n",
    "    for i in range(x):\n",
    "        yield a\n",
    "        a, b = b, a+b\n",
    "g= fibo(10)\n",
    "next(g)\n",
    "next(g)\n",
    "    \n"
   ]
  },
  {
   "cell_type": "code",
   "execution_count": 27,
   "id": "924bc265-8248-4886-a46e-8ccd89029e4c",
   "metadata": {},
   "outputs": [
    {
     "name": "stdout",
     "output_type": "stream",
     "text": [
      "[0, 1, 1, 2, 3, 5, 8, 13, 21, 34]\n"
     ]
    }
   ],
   "source": [
    "fibo = [0,1]\n",
    "[fibo.append(fibo[i-1]+fibo[i-2]) for i in range (2,10)]\n",
    "print(fibo)"
   ]
  },
  {
   "cell_type": "code",
   "execution_count": 3,
   "id": "b24e2aa8-5979-4f8b-a44e-07d5db824ff9",
   "metadata": {},
   "outputs": [],
   "source": [
    "fibo = lambda x: x if x<=1 else (fibo(x-1) + fibo(x-2))\n",
    "[fibo(i)for i in range(10)]"
   ]
  },
  {
   "cell_type": "code",
   "execution_count": 23,
   "id": "914e43b9-cc1a-4fd8-850a-5d7f28eb9da7",
   "metadata": {},
   "outputs": [
    {
     "data": {
      "text/plain": [
       "[0, 1, 1, 2, 3, 5, 8, 13, 21, 34]"
      ]
     },
     "execution_count": 23,
     "metadata": {},
     "output_type": "execute_result"
    }
   ],
   "source": [
    "list(map(fibo, range(10)))"
   ]
  },
  {
   "cell_type": "markdown",
   "id": "d73ee223-d278-44ce-ac0c-d90a42db61fc",
   "metadata": {},
   "source": [
    "# Q5. Create a generator function for prime numbers less than 1000. Use the next() method to print the first 20 prime numbers."
   ]
  },
  {
   "cell_type": "code",
   "execution_count": 15,
   "id": "e8603ebf-da2f-40e2-9ffb-53673fff18c8",
   "metadata": {},
   "outputs": [
    {
     "name": "stdout",
     "output_type": "stream",
     "text": [
      "2\n",
      "3\n",
      "5\n",
      "7\n",
      "11\n",
      "13\n",
      "17\n",
      "19\n"
     ]
    }
   ],
   "source": [
    "def prime_no(x):\n",
    "    if x<2:\n",
    "        return False\n",
    "    for i in range(2,x):\n",
    "        if x%i==0:\n",
    "            return False\n",
    "    return True\n",
    "\n",
    "def prin(y):\n",
    "    for num in range(y+1):\n",
    "        if prime_no(num):\n",
    "           print (num)\n",
    "prin(20)\n",
    "\n",
    "\n",
    "\n",
    "\n",
    "    "
   ]
  },
  {
   "cell_type": "code",
   "execution_count": 25,
   "id": "e37ef7f0-e140-477d-b498-64219691bf92",
   "metadata": {},
   "outputs": [
    {
     "ename": "StopIteration",
     "evalue": "",
     "output_type": "error",
     "traceback": [
      "\u001b[1;31m---------------------------------------------------------------------------\u001b[0m",
      "\u001b[1;31mStopIteration\u001b[0m                             Traceback (most recent call last)",
      "Cell \u001b[1;32mIn[25], line 22\u001b[0m\n\u001b[0;32m     20\u001b[0m \u001b[38;5;28mnext\u001b[39m(g)\n\u001b[0;32m     21\u001b[0m \u001b[38;5;28mnext\u001b[39m(g)\n\u001b[1;32m---> 22\u001b[0m \u001b[38;5;28;43mnext\u001b[39;49m\u001b[43m(\u001b[49m\u001b[43mg\u001b[49m\u001b[43m)\u001b[49m\n",
      "\u001b[1;31mStopIteration\u001b[0m: "
     ]
    }
   ],
   "source": [
    "# Way-2\n",
    "def is_prime(x):\n",
    "    if x<2:\n",
    "        return False\n",
    "    for i in range(2,x):\n",
    "        if x%i==0:\n",
    "            return False\n",
    "    return True\n",
    "def list_of_prime(x):\n",
    "    for i in range(x):\n",
    "        if is_prime(i):\n",
    "            yield i\n",
    "g = list_of_prime(20)\n",
    "next(g)\n",
    "next(g)\n",
    "next(g)\n",
    "next(g)\n",
    "next(g)\n",
    "next(g)\n",
    "next(g)\n",
    "next(g)\n"
   ]
  },
  {
   "cell_type": "markdown",
   "id": "293ca5b7-be62-42cf-8e04-1f4ae98f64df",
   "metadata": {},
   "source": [
    "# Q6. Write a python program to print the first 10 Fibonacci numbers using a while loop."
   ]
  },
  {
   "cell_type": "code",
   "execution_count": 17,
   "id": "a0ccef3d-f2ab-4ad4-816e-0e74d8b4caeb",
   "metadata": {},
   "outputs": [
    {
     "data": {
      "text/plain": [
       "[0, 1, 1, 2, 3, 5, 8, 13, 21, 34]"
      ]
     },
     "execution_count": 17,
     "metadata": {},
     "output_type": "execute_result"
    }
   ],
   "source": [
    "a = 0\n",
    "b = 1\n",
    "i = 10\n",
    "g= []\n",
    "while i>0:\n",
    "    g.append(a)\n",
    "    a,b = b, a+b\n",
    "    i-=1\n",
    "g\n",
    "\n"
   ]
  },
  {
   "cell_type": "code",
   "execution_count": 3,
   "id": "a766d206-3ac8-4c79-96d6-7ce462372691",
   "metadata": {},
   "outputs": [
    {
     "name": "stdout",
     "output_type": "stream",
     "text": [
      "0\n",
      "1\n",
      "1\n",
      "2\n",
      "3\n",
      "5\n",
      "8\n",
      "13\n",
      "21\n",
      "34\n"
     ]
    }
   ],
   "source": [
    "a = 0\n",
    "b=1\n",
    "for i in range(10):\n",
    "    print(a)\n",
    "    a,b= b, a+b"
   ]
  },
  {
   "cell_type": "markdown",
   "id": "c0e2123e-17e6-4f8c-bff6-a9767e0f4748",
   "metadata": {},
   "source": [
    "# Q7. Write a List Comprehension to iterate through the given string: ‘pwskills’.\n",
    "\n",
    "# Expected output: ['p', 'w', 's', 'k', 'i', 'l', 'l', 's'] "
   ]
  },
  {
   "cell_type": "code",
   "execution_count": 20,
   "id": "c24086c9-6702-4427-bdc2-6269a6942042",
   "metadata": {},
   "outputs": [
    {
     "data": {
      "text/plain": [
       "['p', 'w', 's', 'k', 'i', 'l', 'l', 's']"
      ]
     },
     "execution_count": 20,
     "metadata": {},
     "output_type": "execute_result"
    }
   ],
   "source": [
    "string = \"pwskills\"\n",
    "[i for i in string]"
   ]
  },
  {
   "cell_type": "markdown",
   "id": "27bbc26c-572a-497e-99fd-f3c00b783e2b",
   "metadata": {},
   "source": [
    "# Q8. Write a python program to check whether a given number is Palindrome or not using a while loop."
   ]
  },
  {
   "cell_type": "code",
   "execution_count": 29,
   "id": "358076ac-d11d-409c-8069-372bd4a251ee",
   "metadata": {},
   "outputs": [
    {
     "name": "stdout",
     "output_type": "stream",
     "text": [
      "True\n"
     ]
    }
   ],
   "source": [
    "string  = \"naan\"\n",
    "while string == string[::-1]:\n",
    "    print (True)\n",
    "    break\n",
    "else:\n",
    "    print(False)\n",
    "\n",
    "    \n",
    "    "
   ]
  },
  {
   "cell_type": "markdown",
   "id": "7b09b0b2-99d8-4f34-9201-c73367461703",
   "metadata": {},
   "source": [
    "# Q9. Write a code to print odd numbers from 1 to 100 using list comprehension.\n",
    "\n",
    "# Note: Use a list comprehension to create a list from 1 to 100 and use another List comprehension to filter out odd numbers"
   ]
  },
  {
   "cell_type": "code",
   "execution_count": 47,
   "id": "b5e6e765-8720-44b5-8af9-e64f0f227a96",
   "metadata": {},
   "outputs": [
    {
     "data": {
      "text/plain": [
       "[1,\n",
       " 3,\n",
       " 5,\n",
       " 7,\n",
       " 9,\n",
       " 11,\n",
       " 13,\n",
       " 15,\n",
       " 17,\n",
       " 19,\n",
       " 21,\n",
       " 23,\n",
       " 25,\n",
       " 27,\n",
       " 29,\n",
       " 31,\n",
       " 33,\n",
       " 35,\n",
       " 37,\n",
       " 39,\n",
       " 41,\n",
       " 43,\n",
       " 45,\n",
       " 47,\n",
       " 49,\n",
       " 51,\n",
       " 53,\n",
       " 55,\n",
       " 57,\n",
       " 59,\n",
       " 61,\n",
       " 63,\n",
       " 65,\n",
       " 67,\n",
       " 69,\n",
       " 71,\n",
       " 73,\n",
       " 75,\n",
       " 77,\n",
       " 79,\n",
       " 81,\n",
       " 83,\n",
       " 85,\n",
       " 87,\n",
       " 89,\n",
       " 91,\n",
       " 93,\n",
       " 95,\n",
       " 97,\n",
       " 99]"
      ]
     },
     "execution_count": 47,
     "metadata": {},
     "output_type": "execute_result"
    }
   ],
   "source": [
    "list_1 = [i for i in range(1,101)]\n",
    "filter_out_list = [num for num in list_1 if num%2!=0]\n",
    "filter_out_list\n"
   ]
  },
  {
   "cell_type": "code",
   "execution_count": null,
   "id": "88e509e7-0b13-4469-bb4e-81173332a647",
   "metadata": {},
   "outputs": [],
   "source": []
  },
  {
   "cell_type": "code",
   "execution_count": null,
   "id": "42e34b95-3d37-49de-8b2d-7e32c87f05b0",
   "metadata": {},
   "outputs": [],
   "source": []
  },
  {
   "cell_type": "code",
   "execution_count": null,
   "id": "105e1011-80ed-48c7-bac9-cec7c35d01ef",
   "metadata": {},
   "outputs": [],
   "source": []
  },
  {
   "cell_type": "code",
   "execution_count": null,
   "id": "0c0974ab-0aea-43e2-8e7c-d2fa46171055",
   "metadata": {},
   "outputs": [],
   "source": []
  },
  {
   "cell_type": "code",
   "execution_count": null,
   "id": "cde86ef3-a9de-4180-b1fb-bdbca494cb16",
   "metadata": {},
   "outputs": [],
   "source": []
  },
  {
   "cell_type": "code",
   "execution_count": null,
   "id": "bc46f342-9e42-454c-841a-ff74e5dba4f6",
   "metadata": {},
   "outputs": [],
   "source": []
  }
 ],
 "metadata": {
  "kernelspec": {
   "display_name": "Python 3 (ipykernel)",
   "language": "python",
   "name": "python3"
  },
  "language_info": {
   "codemirror_mode": {
    "name": "ipython",
    "version": 3
   },
   "file_extension": ".py",
   "mimetype": "text/x-python",
   "name": "python",
   "nbconvert_exporter": "python",
   "pygments_lexer": "ipython3",
   "version": "3.12.3"
  }
 },
 "nbformat": 4,
 "nbformat_minor": 5
}
